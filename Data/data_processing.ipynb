{
 "cells": [
  {
   "cell_type": "markdown",
   "metadata": {},
   "source": [
    "# Data Processing\n",
    "\n",
    "this notebook contains the code for wrangling the source data from refinitv and calculating useful metrics like log returns, making the data discrete, etc."
   ]
  },
  {
   "cell_type": "code",
   "execution_count": 35,
   "metadata": {},
   "outputs": [],
   "source": [
    "import numpy as np\n",
    "import pandas as pd"
   ]
  },
  {
   "cell_type": "markdown",
   "metadata": {},
   "source": [
    "## opening the df"
   ]
  },
  {
   "cell_type": "code",
   "execution_count": 36,
   "metadata": {},
   "outputs": [
    {
     "data": {
      "text/plain": [
       "Index(['instrument', 'date', '52_week_total_return', 'price_open',\n",
       "       'price_close', 'pe'],\n",
       "      dtype='object')"
      ]
     },
     "execution_count": 36,
     "metadata": {},
     "output_type": "execute_result"
    }
   ],
   "source": [
    "df = pd.read_csv('out.csv')\n",
    "df.drop(\"Unnamed: 0\", axis=1, inplace=True) \n",
    "df.columns = df.columns.str.replace(' ', '_', regex=False).str.lower() \n",
    "df.rename(columns={'p/e_(daily_time_series_ratio)':'pe'},inplace=True)\n",
    "df.columns"
   ]
  },
  {
   "cell_type": "code",
   "execution_count": 37,
   "metadata": {},
   "outputs": [],
   "source": [
    "\n",
    "\n",
    "# sort the values of the df because I did it upside down in refinitiv\n",
    "df =  df.sort_values('date',ascending=True)\n",
    "df.reset_index()\n",
    "\n",
    "# calculate the average of the open and close price, which after we calculate log returns is input\n",
    "df['price_avg'] = (df['price_open'] + df['price_close'])/ 2\n",
    "\n",
    "# find log returns\n",
    "df['log_returns'] = np.log(df['price_avg'] / df['price_avg'].shift(1)) \n",
    "\n",
    "# shift over one to account for the first value where we dont habe a log returns value\n",
    "df = df[1:]\n",
    "df['decile'],bins = pd.qcut(df['log_returns'], 10, labels=False,retbins=True)\n",
    "df['decile'] += 1\n",
    "# print(bins)\n",
    "\n",
    "# for the step where we want to find for this week we don't need a super long set of observations\n",
    "# df = df[14:]\n",
    "# # this should give us an emission matrix with about 20 observations \n",
    "# decile_bounds  = [df['log_returns'].quantile(i/10) for i in range(1, 10+1)]\n",
    "\n",
    "# # and now build a series of the deciles of all of the observations"
   ]
  },
  {
   "cell_type": "code",
   "execution_count": 14,
   "metadata": {},
   "outputs": [
    {
     "data": {
      "text/html": [
       "<div>\n",
       "<style scoped>\n",
       "    .dataframe tbody tr th:only-of-type {\n",
       "        vertical-align: middle;\n",
       "    }\n",
       "\n",
       "    .dataframe tbody tr th {\n",
       "        vertical-align: top;\n",
       "    }\n",
       "\n",
       "    .dataframe thead th {\n",
       "        text-align: right;\n",
       "    }\n",
       "</style>\n",
       "<table border=\"1\" class=\"dataframe\">\n",
       "  <thead>\n",
       "    <tr style=\"text-align: right;\">\n",
       "      <th></th>\n",
       "      <th>instrument</th>\n",
       "      <th>date</th>\n",
       "      <th>price_close</th>\n",
       "      <th>price_open</th>\n",
       "      <th>price_avg</th>\n",
       "      <th>log_returns</th>\n",
       "      <th>decile</th>\n",
       "    </tr>\n",
       "  </thead>\n",
       "  <tbody>\n",
       "    <tr>\n",
       "      <th>10</th>\n",
       "      <td>AAPL.O</td>\n",
       "      <td>2024-11-20T00:00:00Z</td>\n",
       "      <td>229.00</td>\n",
       "      <td>228.060</td>\n",
       "      <td>228.5300</td>\n",
       "      <td>0.003946</td>\n",
       "      <td>5</td>\n",
       "    </tr>\n",
       "    <tr>\n",
       "      <th>9</th>\n",
       "      <td>AAPL.O</td>\n",
       "      <td>2024-11-21T00:00:00Z</td>\n",
       "      <td>228.52</td>\n",
       "      <td>228.880</td>\n",
       "      <td>228.7000</td>\n",
       "      <td>0.000744</td>\n",
       "      <td>3</td>\n",
       "    </tr>\n",
       "    <tr>\n",
       "      <th>8</th>\n",
       "      <td>AAPL.O</td>\n",
       "      <td>2024-11-22T00:00:00Z</td>\n",
       "      <td>229.87</td>\n",
       "      <td>228.060</td>\n",
       "      <td>228.9650</td>\n",
       "      <td>0.001158</td>\n",
       "      <td>4</td>\n",
       "    </tr>\n",
       "    <tr>\n",
       "      <th>7</th>\n",
       "      <td>AAPL.O</td>\n",
       "      <td>2024-11-25T00:00:00Z</td>\n",
       "      <td>232.87</td>\n",
       "      <td>231.460</td>\n",
       "      <td>232.1650</td>\n",
       "      <td>0.013879</td>\n",
       "      <td>10</td>\n",
       "    </tr>\n",
       "    <tr>\n",
       "      <th>6</th>\n",
       "      <td>AAPL.O</td>\n",
       "      <td>2024-11-26T00:00:00Z</td>\n",
       "      <td>235.06</td>\n",
       "      <td>233.330</td>\n",
       "      <td>234.1950</td>\n",
       "      <td>0.008706</td>\n",
       "      <td>8</td>\n",
       "    </tr>\n",
       "    <tr>\n",
       "      <th>5</th>\n",
       "      <td>AAPL.O</td>\n",
       "      <td>2024-11-27T00:00:00Z</td>\n",
       "      <td>234.93</td>\n",
       "      <td>234.465</td>\n",
       "      <td>234.6975</td>\n",
       "      <td>0.002143</td>\n",
       "      <td>5</td>\n",
       "    </tr>\n",
       "    <tr>\n",
       "      <th>4</th>\n",
       "      <td>AAPL.O</td>\n",
       "      <td>2024-11-29T00:00:00Z</td>\n",
       "      <td>237.33</td>\n",
       "      <td>234.805</td>\n",
       "      <td>236.0675</td>\n",
       "      <td>0.005820</td>\n",
       "      <td>8</td>\n",
       "    </tr>\n",
       "    <tr>\n",
       "      <th>3</th>\n",
       "      <td>AAPL.O</td>\n",
       "      <td>2024-12-02T00:00:00Z</td>\n",
       "      <td>239.59</td>\n",
       "      <td>237.270</td>\n",
       "      <td>238.4300</td>\n",
       "      <td>0.009958</td>\n",
       "      <td>9</td>\n",
       "    </tr>\n",
       "    <tr>\n",
       "      <th>2</th>\n",
       "      <td>AAPL.O</td>\n",
       "      <td>2024-12-03T00:00:00Z</td>\n",
       "      <td>242.65</td>\n",
       "      <td>239.810</td>\n",
       "      <td>241.2300</td>\n",
       "      <td>0.011675</td>\n",
       "      <td>10</td>\n",
       "    </tr>\n",
       "    <tr>\n",
       "      <th>1</th>\n",
       "      <td>AAPL.O</td>\n",
       "      <td>2024-12-04T00:00:00Z</td>\n",
       "      <td>243.01</td>\n",
       "      <td>242.870</td>\n",
       "      <td>242.9400</td>\n",
       "      <td>0.007064</td>\n",
       "      <td>8</td>\n",
       "    </tr>\n",
       "    <tr>\n",
       "      <th>0</th>\n",
       "      <td>AAPL.O</td>\n",
       "      <td>2024-12-05T00:00:00Z</td>\n",
       "      <td>243.04</td>\n",
       "      <td>243.990</td>\n",
       "      <td>243.5150</td>\n",
       "      <td>0.002364</td>\n",
       "      <td>5</td>\n",
       "    </tr>\n",
       "  </tbody>\n",
       "</table>\n",
       "</div>"
      ],
      "text/plain": [
       "   instrument                  date  price_close  price_open  price_avg  \\\n",
       "10     AAPL.O  2024-11-20T00:00:00Z       229.00     228.060   228.5300   \n",
       "9      AAPL.O  2024-11-21T00:00:00Z       228.52     228.880   228.7000   \n",
       "8      AAPL.O  2024-11-22T00:00:00Z       229.87     228.060   228.9650   \n",
       "7      AAPL.O  2024-11-25T00:00:00Z       232.87     231.460   232.1650   \n",
       "6      AAPL.O  2024-11-26T00:00:00Z       235.06     233.330   234.1950   \n",
       "5      AAPL.O  2024-11-27T00:00:00Z       234.93     234.465   234.6975   \n",
       "4      AAPL.O  2024-11-29T00:00:00Z       237.33     234.805   236.0675   \n",
       "3      AAPL.O  2024-12-02T00:00:00Z       239.59     237.270   238.4300   \n",
       "2      AAPL.O  2024-12-03T00:00:00Z       242.65     239.810   241.2300   \n",
       "1      AAPL.O  2024-12-04T00:00:00Z       243.01     242.870   242.9400   \n",
       "0      AAPL.O  2024-12-05T00:00:00Z       243.04     243.990   243.5150   \n",
       "\n",
       "    log_returns  decile  \n",
       "10     0.003946       5  \n",
       "9      0.000744       3  \n",
       "8      0.001158       4  \n",
       "7      0.013879      10  \n",
       "6      0.008706       8  \n",
       "5      0.002143       5  \n",
       "4      0.005820       8  \n",
       "3      0.009958       9  \n",
       "2      0.011675      10  \n",
       "1      0.007064       8  \n",
       "0      0.002364       5  "
      ]
     },
     "execution_count": 14,
     "metadata": {},
     "output_type": "execute_result"
    }
   ],
   "source": [
    "df"
   ]
  },
  {
   "cell_type": "markdown",
   "metadata": {},
   "source": [
    "## check the log returns data and make sure our deciles make sense"
   ]
  },
  {
   "cell_type": "code",
   "execution_count": null,
   "metadata": {},
   "outputs": [
    {
     "data": {
      "text/plain": [
       "(array([  1.,   4.,   4.,  34., 233., 884., 289.,  41.,   6.,   3.]),\n",
       " array([-0.11443603, -0.09359114, -0.07274625, -0.05190136, -0.03105647,\n",
       "        -0.01021158,  0.01063331,  0.0314782 ,  0.05232309,  0.07316798,\n",
       "         0.09401287]),\n",
       " <BarContainer object of 10 artists>)"
      ]
     },
     "execution_count": 96,
     "metadata": {},
     "output_type": "execute_result"
    },
    {
     "data": {
      "image/png": "[encoded data removed]",
      "text/plain": [
       "<Figure size 640x480 with 1 Axes>"
      ]
     },
     "metadata": {},
     "output_type": "display_data"
    }
   ],
   "source": [
    "import matplotlib.pyplot as plt\n",
    "plt.hist(df['log_returns'])"
   ]
  },
  {
   "cell_type": "code",
   "execution_count": 97,
   "metadata": {},
   "outputs": [
    {
     "data": {
      "text/plain": [
       "ShapiroResult(statistic=np.float64(0.9366154410425637), pvalue=np.float64(8.972677503397682e-25))"
      ]
     },
     "execution_count": 97,
     "metadata": {},
     "output_type": "execute_result"
    }
   ],
   "source": [
    "from scipy.stats import shapiro\n",
    "shapiro(df['log_returns'])"
   ]
  },
  {
   "cell_type": "markdown",
   "metadata": {},
   "source": [
    "we can see that log-returns are normal at the level of p < 0.05, which means our decile approach should be okay"
   ]
  },
  {
   "cell_type": "code",
   "execution_count": null,
   "metadata": {},
   "outputs": [],
   "source": [
    "df.to_csv('train.csv')"
   ]
  }
 ],
 "metadata": {
  "kernelspec": {
   "display_name": ".venv",
   "language": "python",
   "name": "python3"
  },
  "language_info": {
   "codemirror_mode": {
    "name": "ipython",
    "version": 3
   },
   "file_extension": ".py",
   "mimetype": "text/x-python",
   "name": "python",
   "nbconvert_exporter": "python",
   "pygments_lexer": "ipython3",
   "version": "3.12.3"
  }
 },
 "nbformat": 4,
 "nbformat_minor": 2
}
